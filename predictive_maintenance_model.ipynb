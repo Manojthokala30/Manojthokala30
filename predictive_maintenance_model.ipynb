{
  "nbformat": 4,
  "nbformat_minor": 0,
  "metadata": {
    "colab": {
      "provenance": [],
      "include_colab_link": true
    },
    "kernelspec": {
      "name": "python3",
      "display_name": "Python 3"
    },
    "language_info": {
      "name": "python"
    }
  },
  "cells": [
    {
      "cell_type": "markdown",
      "metadata": {
        "id": "view-in-github",
        "colab_type": "text"
      },
      "source": [
        "<a href=\"https://colab.research.google.com/github/Manojthokala30/Manojthokala30/blob/main/predictive_maintenance_model.ipynb\" target=\"_parent\"><img src=\"https://colab.research.google.com/assets/colab-badge.svg\" alt=\"Open In Colab\"/></a>"
      ]
    },
    {
      "cell_type": "code",
      "source": [
        "import pandas as pd\n",
        "import numpy as np\n",
        "from sklearn.model_selection import train_test_split\n",
        "from sklearn.preprocessing import StandardScaler\n",
        "from sklearn.ensemble import RandomForestClassifier\n",
        "from sklearn.metrics import classification_report, confusion_matrix\n",
        "import joblib\n",
        "\n",
        "# Load the dataset\n",
        "df = pd.read_csv('/content/drive/MyDrive/predictive_maintenance_data (1).csv')\n",
        "\n",
        "# Display basic information about the dataset\n",
        "df.info(), df.head()\n",
        "\n",
        "# Convert timestamp to datetime\n",
        "df['timestamp'] = pd.to_datetime(df['timestamp'])\n",
        "\n",
        "# Extract features from timestamp\n",
        "df['hour'] = df['timestamp'].dt.hour\n",
        "df['day'] = df['timestamp'].dt.day\n",
        "df['month'] = df['timestamp'].dt.month\n",
        "\n",
        "# Drop the original timestamp column\n",
        "df.drop(columns=['timestamp'], inplace=True)\n",
        "\n",
        "# Normalize sensor readings\n",
        "sensor_columns = [f'sensor_{i}' for i in range(1, 6)]\n",
        "scaler = StandardScaler()\n",
        "df[sensor_columns] = scaler.fit_transform(df[sensor_columns])\n",
        "\n",
        "# Split the data into training and testing sets\n",
        "X = df.drop(columns=['failure'])\n",
        "y = df['failure']\n",
        "X_train, X_test, y_train, y_test = train_test_split(X, y, test_size=0.2, random_state=42)\n",
        "\n",
        "# Train a Random Forest Classifier\n",
        "model = RandomForestClassifier(n_estimators=100, random_state=42)\n",
        "model.fit(X_train, y_train)\n",
        "\n",
        "# Make predictions\n",
        "y_pred = model.predict(X_test)\n",
        "\n",
        "# Evaluate the model\n",
        "print(\"Confusion Matrix:\")\n",
        "print(confusion_matrix(y_test, y_pred))\n",
        "print(\"\\nClassification Report:\")\n",
        "print(classification_report(y_test, y_pred))\n",
        "\n",
        "# Save the model if needed\n",
        "joblib.dump(model, 'predictive_maintenance_model.pkl')\n",
        "\n",
        "# Example new data\n",
        "new_data = pd.DataFrame({\n",
        "    'timestamp': ['2024-02-01 00:00:00', '2024-02-01 01:00:00'],\n",
        "    'equipment_id': [1, 2],\n",
        "    'sensor_1': [95.0, 100.0],\n",
        "    'sensor_2': [97.0, 105.0],\n",
        "    'sensor_3': [101.0, 110.0],\n",
        "    'sensor_4': [98.0, 108.0],\n",
        "    'sensor_5': [99.0, 107.0],\n",
        "    'maintenance_log': [0, 1]\n",
        "})\n",
        "\n",
        "# Convert timestamp to datetime\n",
        "new_data['timestamp'] = pd.to_datetime(new_data['timestamp'])\n",
        "\n",
        "# Extract features from timestamp\n",
        "new_data['hour'] = new_data['timestamp'].dt.hour\n",
        "new_data['day'] = new_data['timestamp'].dt.day\n",
        "new_data['month'] = new_data['timestamp'].dt.month\n",
        "\n",
        "# Drop the original timestamp column\n",
        "new_data.drop(columns=['timestamp'], inplace=True)\n",
        "\n",
        "# Normalize sensor readings\n",
        "sensor_columns = [f'sensor_{i}' for i in range(1, 6)]\n",
        "scaler = StandardScaler()\n",
        "new_data[sensor_columns] = scaler.fit_transform(new_data[sensor_columns])\n",
        "\n",
        "# Ensure the features match those used in training\n",
        "X_new = new_data[['equipment_id', 'sensor_1', 'sensor_2', 'sensor_3', 'sensor_4', 'sensor_5',\n",
        "                  'maintenance_log', 'hour', 'day', 'month']]\n",
        "\n",
        "# Predict whether the machines will fail\n",
        "predictions = model.predict(X_new)\n",
        "prediction_probabilities = model.predict_proba(X_new)[:, 1]\n",
        "\n",
        "# Display the predictions\n",
        "new_data['predicted_failure'] = predictions\n",
        "new_data['failure_probability'] = prediction_probabilities\n",
        "\n",
        "print(new_data)"
      ],
      "metadata": {
        "colab": {
          "base_uri": "https://localhost:8080/"
        },
        "id": "is85qmK9q-sU",
        "outputId": "7ea1c206-658a-4363-d334-02666789f733"
      },
      "execution_count": null,
      "outputs": [
        {
          "output_type": "stream",
          "name": "stdout",
          "text": [
            "<class 'pandas.core.frame.DataFrame'>\n",
            "RangeIndex: 1000 entries, 0 to 999\n",
            "Data columns (total 9 columns):\n",
            " #   Column           Non-Null Count  Dtype  \n",
            "---  ------           --------------  -----  \n",
            " 0   timestamp        1000 non-null   object \n",
            " 1   equipment_id     1000 non-null   int64  \n",
            " 2   sensor_1         1000 non-null   float64\n",
            " 3   sensor_2         1000 non-null   float64\n",
            " 4   sensor_3         1000 non-null   float64\n",
            " 5   sensor_4         1000 non-null   float64\n",
            " 6   sensor_5         1000 non-null   float64\n",
            " 7   maintenance_log  1000 non-null   int64  \n",
            " 8   failure          1000 non-null   int64  \n",
            "dtypes: float64(5), int64(3), object(1)\n",
            "memory usage: 70.4+ KB\n",
            "Confusion Matrix:\n",
            "[[197   0]\n",
            " [  3   0]]\n",
            "\n",
            "Classification Report:\n",
            "              precision    recall  f1-score   support\n",
            "\n",
            "           0       0.98      1.00      0.99       197\n",
            "           1       0.00      0.00      0.00         3\n",
            "\n",
            "    accuracy                           0.98       200\n",
            "   macro avg       0.49      0.50      0.50       200\n",
            "weighted avg       0.97      0.98      0.98       200\n",
            "\n",
            "   equipment_id  sensor_1  sensor_2  sensor_3  sensor_4  sensor_5  \\\n",
            "0             1      -1.0      -1.0      -1.0      -1.0      -1.0   \n",
            "1             2       1.0       1.0       1.0       1.0       1.0   \n",
            "\n",
            "   maintenance_log  hour  day  month  predicted_failure  failure_probability  \n",
            "0                0     0    1      2                  0                 0.01  \n",
            "1                1     1    1      2                  0                 0.00  \n"
          ]
        },
        {
          "output_type": "stream",
          "name": "stderr",
          "text": [
            "/usr/local/lib/python3.10/dist-packages/sklearn/metrics/_classification.py:1344: UndefinedMetricWarning: Precision and F-score are ill-defined and being set to 0.0 in labels with no predicted samples. Use `zero_division` parameter to control this behavior.\n",
            "  _warn_prf(average, modifier, msg_start, len(result))\n",
            "/usr/local/lib/python3.10/dist-packages/sklearn/metrics/_classification.py:1344: UndefinedMetricWarning: Precision and F-score are ill-defined and being set to 0.0 in labels with no predicted samples. Use `zero_division` parameter to control this behavior.\n",
            "  _warn_prf(average, modifier, msg_start, len(result))\n",
            "/usr/local/lib/python3.10/dist-packages/sklearn/metrics/_classification.py:1344: UndefinedMetricWarning: Precision and F-score are ill-defined and being set to 0.0 in labels with no predicted samples. Use `zero_division` parameter to control this behavior.\n",
            "  _warn_prf(average, modifier, msg_start, len(result))\n"
          ]
        }
      ]
    },
    {
      "cell_type": "code",
      "source": [
        "for i in range(len(new_data)):\n",
        "    machine_id = new_data.loc[i, 'equipment_id']\n",
        "    predicted_failure = new_data.loc[i, 'predicted_failure']\n",
        "    print(f\"Machine ID: {machine_id}, Predicted Failure: {predicted_failure}\")"
      ],
      "metadata": {
        "colab": {
          "base_uri": "https://localhost:8080/"
        },
        "id": "qRCFjY8ktGMI",
        "outputId": "ed13ee68-e764-4b31-970b-5c776f5b201a"
      },
      "execution_count": null,
      "outputs": [
        {
          "output_type": "stream",
          "name": "stdout",
          "text": [
            "Machine ID: 1, Predicted Failure: 0\n",
            "Machine ID: 2, Predicted Failure: 0\n"
          ]
        }
      ]
    },
    {
      "cell_type": "code",
      "source": [
        "# Separate the data into failure and not failure cases\n",
        "failed_data = new_data[new_data['predicted_failure'] == True]\n",
        "not_failed_data = new_data[new_data['predicted_failure'] == False]\n",
        "\n",
        "# Print the failed data\n",
        "print(\"Failed Data:\")\n",
        "print(failed_data)\n",
        "\n",
        "# Print the not failed data\n",
        "print(\"\\nNot Failed Data:\")\n",
        "print(not_failed_data)"
      ],
      "metadata": {
        "colab": {
          "base_uri": "https://localhost:8080/"
        },
        "id": "MsEKI411tyD6",
        "outputId": "184f953b-06f3-49b4-c77e-18b862c59350"
      },
      "execution_count": null,
      "outputs": [
        {
          "output_type": "stream",
          "name": "stdout",
          "text": [
            "Failed Data:\n",
            "Empty DataFrame\n",
            "Columns: [equipment_id, sensor_1, sensor_2, sensor_3, sensor_4, sensor_5, maintenance_log, hour, day, month, predicted_failure, failure_probability]\n",
            "Index: []\n",
            "\n",
            "Not Failed Data:\n",
            "   equipment_id  sensor_1  sensor_2  sensor_3  sensor_4  sensor_5  \\\n",
            "0             1      -1.0      -1.0      -1.0      -1.0      -1.0   \n",
            "1             2       1.0       1.0       1.0       1.0       1.0   \n",
            "\n",
            "   maintenance_log  hour  day  month  predicted_failure  failure_probability  \n",
            "0                0     0    1      2                  0                 0.01  \n",
            "1                1     1    1      2                  0                 0.00  \n"
          ]
        }
      ]
    },
    {
      "cell_type": "code",
      "source": [
        "import matplotlib.pyplot as plt\n",
        "\n",
        "# Create a list of colors based on predicted failure status\n",
        "colors = ['green' if failure == 0 else 'red' for failure in new_data['predicted_failure']]\n",
        "\n",
        "# Create a scatter plot with the colors\n",
        "plt.scatter(new_data['equipment_id'], new_data['equipment_id'], c=colors)\n",
        "\n",
        "# Add labels and title\n",
        "plt.xlabel(\"Equipment ID\")\n",
        "plt.ylabel(\"Equipment ID\")\n",
        "plt.title(\"Predicted Failures for New Data\")\n",
        "\n",
        "# Show the plot\n",
        "plt.show()"
      ],
      "metadata": {
        "colab": {
          "base_uri": "https://localhost:8080/",
          "height": 472
        },
        "id": "9EV7e4krvXwL",
        "outputId": "39a08a59-e1a3-448e-fa1c-634a27854409"
      },
      "execution_count": null,
      "outputs": [
        {
          "output_type": "display_data",
          "data": {
            "text/plain": [
              "<Figure size 640x480 with 1 Axes>"
            ],
            "image/png": "[encoded data removed]"
          },
          "metadata": {}
        }
      ]
    },
    {
      "cell_type": "code",
      "source": [],
      "metadata": {
        "id": "Decbm_uivYSd"
      },
      "execution_count": null,
      "outputs": []
    }
  ]
}